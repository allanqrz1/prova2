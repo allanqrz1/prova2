{
 "cells": [
  {
   "cell_type": "code",
   "execution_count": 1,
   "id": "0f751744-2148-4270-8dbe-edc4e451a971",
   "metadata": {},
   "outputs": [
    {
     "name": "stdout",
     "output_type": "stream",
     "text": [
      "A média de consumo é: 51.37 kWh\n"
     ]
    }
   ],
   "source": [
    "def calcular_media_consumo(consumo_diario):\n",
    "    if len(consumo_diario) == 0:\n",
    "        return 0 \n",
    "    \n",
    "    media = sum(consumo_diario) / len(consumo_diario)\n",
    "    return media\n",
    "\n",
    "# lista\n",
    "consumo_diario = [50, 45, 55, 60, 48, 52, 47, 49, 53, 51, 50, 46, 54, 61, 49, 53, 48, 50, 52, 47, 56, 50, 55, 60, 48, 52, 47, 49, 53, 51]\n",
    "\n",
    "# Calcular\n",
    "media_consumo = calcular_media_consumo(consumo_diario)\n",
    "\n",
    "# média\n",
    "print(f\"A média de consumo é: {media_consumo:.2f} kWh\")"
   ]
  },
  {
   "cell_type": "code",
   "execution_count": null,
   "id": "efe621a2-ccb0-4add-9386-e278a3344ced",
   "metadata": {},
   "outputs": [],
   "source": []
  }
 ],
 "metadata": {
  "kernelspec": {
   "display_name": "Python 3 (ipykernel)",
   "language": "python",
   "name": "python3"
  },
  "language_info": {
   "codemirror_mode": {
    "name": "ipython",
    "version": 3
   },
   "file_extension": ".py",
   "mimetype": "text/x-python",
   "name": "python",
   "nbconvert_exporter": "python",
   "pygments_lexer": "ipython3",
   "version": "3.12.4"
  }
 },
 "nbformat": 4,
 "nbformat_minor": 5
}
